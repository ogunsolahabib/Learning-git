{
  "cells": [
    {
      "cell_type": "markdown",
      "metadata": {
        "id": "view-in-github",
        "colab_type": "text"
      },
      "source": [
        "<a href=\"https://colab.research.google.com/github/ogunsolahabib/Learning-git/blob/master/Python_playground.ipynb\" target=\"_parent\"><img src=\"https://colab.research.google.com/assets/colab-badge.svg\" alt=\"Open In Colab\"/></a>"
      ]
    },
    {
      "cell_type": "code",
      "execution_count": null,
      "metadata": {
        "colab": {
          "base_uri": "https://localhost:8080/"
        },
        "id": "l8MIQuV8YEXt",
        "outputId": "12b02fb7-f6b4-4aff-d1cc-b671c69de142"
      },
      "outputs": [
        {
          "data": {
            "text/plain": [
              "range(0, 10)"
            ]
          },
          "execution_count": 1,
          "metadata": {},
          "output_type": "execute_result"
        }
      ],
      "source": [
        "range(10)\n"
      ]
    },
    {
      "cell_type": "code",
      "execution_count": null,
      "metadata": {
        "colab": {
          "base_uri": "https://localhost:8080/"
        },
        "id": "BDranDh5iKsG",
        "outputId": "aafd2f08-ec97-4a7b-a0f1-4ea034bab2b5"
      },
      "outputs": [
        {
          "name": "stdout",
          "output_type": "stream",
          "text": [
            "10 19\n",
            "5.0 20\n",
            "16.0 21\n",
            "8.0 22\n",
            "4.0 23\n",
            "2.0 24\n",
            "1.0 25\n",
            "count\n",
            "None\n"
          ]
        }
      ],
      "source": [
        "\n",
        "def steps(number, count=0):\n",
        "    print(number, count)\n",
        "    if number == 1:\n",
        "        print(\"count\")\n",
        "        return count\n",
        "    else:\n",
        "      if number % 2 == 0:\n",
        "        number = number / 2\n",
        "        steps(number, count+1)\n",
        "      elif number % 2 == 1:\n",
        "        number = (3*number) + 1\n",
        "        steps(number, count+1)\n",
        "\n",
        "\n",
        "\n",
        "print(steps(10,19))"
      ]
    },
    {
      "cell_type": "code",
      "execution_count": null,
      "metadata": {
        "colab": {
          "base_uri": "https://localhost:8080/"
        },
        "id": "xEhQwDSZsNBi",
        "outputId": "9cb03b20-d537-46b6-be3e-fd0cfd2b0801"
      },
      "outputs": [
        {
          "data": {
            "text/plain": [
              "False"
            ]
          },
          "execution_count": 17,
          "metadata": {},
          "output_type": "execute_result"
        }
      ],
      "source": [
        "def has_zeros(sides):\n",
        "    for side in sides:\n",
        "        if side==0:\n",
        "            return True\n",
        "    return False\n",
        "\n",
        "def isosceles(sides):\n",
        "    sorted = sides.sort\n",
        "    if has_zeros(sides):\n",
        "        return False\n",
        "    dict = to_dict(sides)\n",
        "    for key in dict:\n",
        "        print(dict[key])\n",
        "        if dict[key] == 2:\n",
        "            return True\n",
        "\n",
        "    return False\n",
        "\n",
        "def to_dict(sides):\n",
        "    dict= {}\n",
        "    for side in sides:\n",
        "        if side in dict.keys():\n",
        "            dict[side] = dict[side] + 1\n",
        "        else:\n",
        "          dict[side] = 1\n",
        "    return dict\n",
        "\n",
        "\n",
        "def ineq_violation(sides):\n",
        "     sides.sort()\n",
        "     if sides[0] + sides[1] < sides[2]:\n",
        "          return True\n",
        "     return False\n",
        "\n",
        "ineq_violation([3, 4, 4])\n",
        "\n"
      ]
    },
    {
      "cell_type": "code",
      "execution_count": null,
      "metadata": {
        "colab": {
          "base_uri": "https://localhost:8080/"
        },
        "id": "x5KYzSVTOLer",
        "outputId": "9a7bb688-8e84-4e7f-99da-4558e70abf1b"
      },
      "outputs": [
        {
          "name": "stdout",
          "output_type": "stream",
          "text": [
            "80.0\n"
          ]
        }
      ],
      "source": [
        "def reactor_efficiency(voltage, current, theoretical_max_power):\n",
        "    efficiency = ((voltage * current)/theoretical_max_power)*100\n",
        "    print(efficiency)\n",
        "\n",
        "\n",
        "    if  efficiency > 80:\n",
        "          return \"green\"\n",
        "    if  60 <= efficiency < 80:\n",
        "          return \"orange\"\n",
        "    if 30 <= efficiency < 60:\n",
        "          return \"red\"\n",
        "    if efficiency < 30:\n",
        "          return \"black\"\n",
        "\n",
        "\n",
        "reactor_efficiency(10, 800, 10000)"
      ]
    },
    {
      "cell_type": "code",
      "execution_count": null,
      "metadata": {
        "colab": {
          "base_uri": "https://localhost:8080/",
          "height": 53
        },
        "id": "G82c-tuh83mR",
        "outputId": "736894e1-b176-48a9-f208-17e92d238336"
      },
      "outputs": [
        {
          "name": "stdout",
          "output_type": "stream",
          "text": [
            "p\n"
          ]
        },
        {
          "data": {
            "application/vnd.google.colaboratory.intrinsic+json": {
              "type": "string"
            },
            "text/plain": [
              "'pig'"
            ]
          },
          "execution_count": 1,
          "metadata": {},
          "output_type": "execute_result"
        }
      ],
      "source": [
        "def translate(text):\n",
        "    vowels = ['a', 'e', 'i', 'o', 'u']\n",
        "    first_letter = text[0]\n",
        "    if text.startswith(\"xr\") or text.startswith(\"yt\") or first_letter in vowels:\n",
        "        text+=\"ay\"\n",
        "    print(first_letter)\n",
        "    if first_letter not in vowels:\n",
        "        lst= text()\n",
        "        # lst.remove(first_letter)\n",
        "        # lst.append(first_letter + \"ay\")\n",
        "        # text=lst.join()\n",
        "    return text\n",
        "\n",
        "translate(\"pig\")"
      ]
    },
    {
      "cell_type": "code",
      "execution_count": null,
      "metadata": {
        "colab": {
          "base_uri": "https://localhost:8080/",
          "height": 53
        },
        "id": "8V2GxbTPGhJH",
        "outputId": "6ab3d588-1eba-445b-c839-1211230904d0"
      },
      "outputs": [
        {
          "name": "stdout",
          "output_type": "stream",
          "text": [
            "['pig']\n"
          ]
        },
        {
          "data": {
            "application/vnd.google.colaboratory.intrinsic+json": {
              "type": "string"
            },
            "text/plain": [
              "'pigpay'"
            ]
          },
          "execution_count": 15,
          "metadata": {},
          "output_type": "execute_result"
        }
      ],
      "source": [
        "def append_ay(text, before_ay):\n",
        "    lst= text.split(\",\")\n",
        "    print(lst)\n",
        "    # lst.remove(before_ay)\n",
        "    lst.append(before_ay + \"ay\")\n",
        "    text=\"\".join(lst)\n",
        "    return text\n",
        "append_ay(\"pig\", \"p\")"
      ]
    },
    {
      "cell_type": "code",
      "execution_count": null,
      "metadata": {
        "id": "rOmO-c3EQx9T"
      },
      "outputs": [],
      "source": [
        "def average_even_is_average_odd(hand):\n",
        "    \"\"\"Return if the (average of even indexed card values) == (average of odd indexed card values).\n",
        "\n",
        "    :param hand: list - cards in hand.\n",
        "    :return: bool - are even and odd averages equal?\n",
        "    \"\"\"\n",
        "    ind = list(dict(enumerate(hand)).keys())\n",
        "\n",
        "\n",
        "    def is_even(num):\n",
        "        return num % 2 == 0\n",
        "    def is_odd(num):\n",
        "        return num % 2 != 0\n",
        "\n",
        "\n",
        "    even_ind = list(filter(is_even, ind))\n",
        "    odd_ind = list(filter(is_odd, ind))\n",
        "\n",
        "    evens = list(map(lambda x: hand[x], even_ind))\n",
        "    odds = list(map(lambda x: hand[x], odd_ind))\n",
        "\n",
        "    print(evens)"
      ]
    },
    {
      "cell_type": "code",
      "execution_count": null,
      "metadata": {
        "colab": {
          "base_uri": "https://localhost:8080/"
        },
        "id": "qc8aZ9Ru_gCt",
        "outputId": "37623ca1-6454-4655-fb27-caa8566318bd"
      },
      "outputs": [
        {
          "name": "stdout",
          "output_type": "stream",
          "text": [
            "[1, 3, 5]\n"
          ]
        }
      ],
      "source": [
        "average_even_is_average_odd([1,2,3,4,5])\n",
        "# list(dict(enumerate([1,2,3,4,5])).keys())"
      ]
    },
    {
      "cell_type": "code",
      "execution_count": null,
      "metadata": {
        "id": "4zxiViEEKPRD"
      },
      "outputs": [],
      "source": [
        "def is_valid(isbn):\n",
        "    digits= isbn.replace(\"-\",\"\")\n",
        "    if len(digits) != 10:\n",
        "        return False\n",
        "\n",
        "    digits = list(digits)\n",
        "    if digits[-1].isnumeric() == False and digits[-1] != \"X\":\n",
        "        return False\n",
        "    if digits[-1] == 'X':\n",
        "        digits[-1] = 10\n",
        "\n",
        "    sum_of_prods= 0\n",
        "\n",
        "    for i in range(10, 0, -1):\n",
        "        print(i, int(digits[10-i]))\n",
        "        sum_of_prods += int(digits[10-i]) * i\n",
        "\n",
        "    print(sum_of_prods, digits)\n",
        "\n",
        "    if sum_of_prods % 11 != 0:\n",
        "        return False\n",
        "    return True"
      ]
    },
    {
      "cell_type": "code",
      "execution_count": null,
      "metadata": {
        "colab": {
          "base_uri": "https://localhost:8080/"
        },
        "id": "BrcRdtQ2f2px",
        "outputId": "2b89b96a-7264-4e06-acb2-86979caee2e1"
      },
      "outputs": [
        {
          "name": "stdout",
          "output_type": "stream",
          "text": [
            "10 3\n",
            "9 5\n",
            "8 9\n",
            "7 8\n",
            "6 2\n",
            "5 1\n",
            "4 5\n",
            "3 0\n",
            "2 8\n",
            "1 8\n",
            "264 ['3', '5', '9', '8', '2', '1', '5', '0', '8', '8']\n"
          ]
        },
        {
          "data": {
            "text/plain": [
              "True"
            ]
          },
          "execution_count": 33,
          "metadata": {},
          "output_type": "execute_result"
        }
      ],
      "source": [
        "is_valid(\"3-598-21508-8\")"
      ]
    },
    {
      "cell_type": "code",
      "execution_count": null,
      "metadata": {
        "id": "E3g65ptY7sYF"
      },
      "outputs": [],
      "source": [
        "def get_factors(number):\n",
        "    factors = list()\n",
        "\n",
        "    for x in range(1, number-1):\n",
        "        if number % x == 0:\n",
        "            factors.append(x)\n",
        "    return factors"
      ]
    },
    {
      "cell_type": "code",
      "execution_count": null,
      "metadata": {
        "colab": {
          "base_uri": "https://localhost:8080/"
        },
        "id": "81bJZi_wkcm9",
        "outputId": "aa08a30a-0d54-474f-f034-843ab52f906e"
      },
      "outputs": [
        {
          "data": {
            "text/plain": [
              "[1, 2, 3, 6, 9]"
            ]
          },
          "execution_count": 28,
          "metadata": {},
          "output_type": "execute_result"
        }
      ],
      "source": [
        "get_factors(18)"
      ]
    },
    {
      "cell_type": "code",
      "execution_count": null,
      "metadata": {
        "colab": {
          "base_uri": "https://localhost:8080/",
          "height": 35
        },
        "id": "XbGE0cPDBXqW",
        "outputId": "9613243f-2c13-44af-cf1a-48a6b8b28991"
      },
      "outputs": [
        {
          "data": {
            "application/vnd.google.colaboratory.intrinsic+json": {
              "type": "string"
            },
            "text/plain": [
              "'b'"
            ]
          },
          "execution_count": 10,
          "metadata": {},
          "output_type": "execute_result"
        }
      ],
      "source": [
        "ALPHABET = list(map(chr, range(97, 123)))\n",
        "\n",
        "def rotate(text, key):\n",
        "    return \"\".join(map(lambda x: rotate_letter(x, key), list(text)))\n",
        "\n",
        "\n",
        "\n",
        "\n",
        "def rotate_letter(letter, key):\n",
        "    if letter not in ALPHABET:\n",
        "        return letter\n",
        "    if key in [0, 26]:\n",
        "        return letter\n",
        "\n",
        "    letter_index= ALPHABET.index(letter) + 1\n",
        "    index= letter_index + key\n",
        "\n",
        "    if index > 26:\n",
        "        index = index % 26\n",
        "\n",
        "    return ALPHABET[index - 1]\n",
        "rotate(\"a\", 1)"
      ]
    },
    {
      "cell_type": "code",
      "execution_count": null,
      "metadata": {
        "colab": {
          "background_save": true
        },
        "id": "kHPrAU48Y6JZ"
      },
      "outputs": [],
      "source": [
        "def rebase(input_base, digits, output_base):\n",
        "    if(input_base<2):\n",
        "        raise ValueError(\"input base must be >= 2\")\n",
        "\n",
        "    if(output_base<2):\n",
        "        raise ValueError(\"output base must be >= 2\")\n",
        "\n",
        "    for x in digits:\n",
        "        if x >= input_base:\n",
        "            raise ValueError(\"output base must be >= 2\")\n",
        "\n",
        "    if input_base == 10:\n",
        "        return from_decimal(digits, output_base)\n",
        "    if output_base == 10:\n",
        "        return to_decimal(digits, input_base)\n",
        "\n",
        "    dec = to_decimal(digits, input_base)\n",
        "\n",
        "    return from_decimal(num_to_arr(dec), output_base)\n",
        "\n",
        "def to_decimal(digits, base):\n",
        "    result=0\n",
        "    # print(list(range(len(digits))))\n",
        "    # print(list(range(len(digits) - 1, -1, -1)))\n",
        "    digits.reverse()\n",
        "    for x in range(len(digits) - 1, -1, -1):\n",
        "        result += digits[x] * (base ** x)\n",
        "\n",
        "    return result\n",
        "\n",
        "\n",
        "def from_decimal(digits, base):\n",
        "    print(digits, base, \"p\")\n",
        "    # num = int(\"\".join(map(str, digits)))\n",
        "    num = int(\"\".join(map(str, digits)))\n",
        "\n",
        "    return from_decimal(num, base)\n",
        "\n",
        "\n",
        "def get_remainders(num, base, current_list = []):\n",
        "    if num >= 1:\n",
        "        new_num = num / base\n",
        "        new_list = current_list.copy()\n",
        "        new_list.append(round(num % base))\n",
        "\n",
        "        return get_remainders(new_num, base, new_list)\n",
        "\n",
        "    return int(\"\".join(map(str, current_list)))\n",
        "\n",
        "\n",
        "def num_to_arr(num):\n",
        "    return list(map(int, list(str(num))))\n",
        "\n",
        "int(\"\".join(map(str, [5]))) +1\n",
        "\n",
        "rebase(10, [5], 2)"
      ]
    },
    {
      "cell_type": "code",
      "execution_count": null,
      "metadata": {
        "colab": {
          "base_uri": "https://localhost:8080/"
        },
        "id": "bmuiUpkbnE65",
        "outputId": "a8e1c441-0f03-4e1f-c955-36ae3003418a"
      },
      "outputs": [
        {
          "data": {
            "text/plain": [
              "[3, 2, 1, 0]"
            ]
          },
          "execution_count": 26,
          "metadata": {},
          "output_type": "execute_result"
        }
      ],
      "source": [
        "list(range(3, -1, -1))"
      ]
    },
    {
      "cell_type": "code",
      "source": [
        "def rebase(input_base, digits, output_base):\n",
        "    if(input_base < 2):\n",
        "        raise ValueError(\"input base must be >= 2\")\n",
        "\n",
        "    if(output_base < 2):\n",
        "        raise ValueError(\"output base must be >= 2\")\n",
        "\n",
        "    for x in digits:\n",
        "        if x >= input_base:\n",
        "            raise ValueError(\"output base must be >= 2\")\n",
        "\n",
        "    if input_base == 10:\n",
        "        return num_to_arr(from_decimal(digits, output_base))\n",
        "    if output_base == 10:\n",
        "        return num_to_arr(to_decimal(digits, input_base))\n",
        "\n",
        "    dec = to_decimal(digits, input_base)\n",
        "\n",
        "    return num_to_arr(from_decimal(num_to_arr(dec), output_base))\n",
        "\n",
        "def to_decimal(digits, base):\n",
        "    result=0\n",
        "    # print(list(range(len(digits))))\n",
        "    # print(list(range(len(digits) - 1, -1, -1)))\n",
        "    digits.reverse()\n",
        "    for x in range(len(digits) - 1, -1, -1):\n",
        "        result += digits[x] * (base ** x)\n",
        "\n",
        "    return result\n",
        "\n",
        "\n",
        "def from_decimal(digits, base):\n",
        "    print(digits, base, \"p\")\n",
        "    # num = int(\"\".join(map(str, digits)))\n",
        "    num = int(\"\".join(map(str, digits)))\n",
        "\n",
        "    return get_remainders(num, base)\n",
        "\n",
        "\n",
        "\n",
        "\n",
        "# 42 21 r 0\n",
        "# 21 10 r 1\n",
        "# 10 5 r 0\n",
        "# 5 2 r 1\n",
        "# 2 1 r 0\n",
        "# 1 0 r 1\n",
        "def get_remainders(num, base, current_list = []):\n",
        "\n",
        "    new_num = num / base\n",
        "    new_list = current_list.copy()\n",
        "    new_list.insert(0, round(num % base))\n",
        "    if base > new_num:\n",
        "\n",
        "        return get_remainders(new_num, base, new_list)\n",
        "        print(current_list)\n",
        "\n",
        "    return int(\"\".join(map(str, current_list)))\n",
        "\n",
        "\n",
        "def num_to_arr(num):\n",
        "    return list(map(int, list(str(num))))\n",
        "\n",
        "int(\"\".join(map(str, [5]))) +1\n",
        "\n"
      ],
      "metadata": {
        "id": "1F4BUlxJvHIQ"
      },
      "execution_count": null,
      "outputs": []
    },
    {
      "cell_type": "code",
      "source": [
        "def rebase(input_base, digits, output_base):\n",
        "    if(input_base < 2):\n",
        "        raise ValueError(\"input base must be >= 2\")\n",
        "\n",
        "    if(output_base < 2):\n",
        "        raise ValueError(\"output base must be >= 2\")\n",
        "\n",
        "    for x in digits:\n",
        "        if x >= input_base:\n",
        "            raise ValueError(\"output base must be >= 2\")\n",
        "\n",
        "    if input_base == 10:\n",
        "        return num_to_arr(from_decimal(digits, output_base))\n",
        "    if output_base == 10:\n",
        "        return num_to_arr(to_decimal(digits, input_base))\n",
        "\n",
        "    dec = to_decimal(digits, input_base)\n",
        "\n",
        "    return num_to_arr(from_decimal(num_to_arr(dec), output_base))\n",
        "\n",
        "def to_decimal(digits, base):\n",
        "    result=0\n",
        "    # print(list(range(len(digits))))\n",
        "    # print(list(range(len(digits) - 1, -1, -1)))\n",
        "    digits.reverse()\n",
        "    for x in range(len(digits) - 1, -1, -1):\n",
        "        result += digits[x] * (base ** x)\n",
        "\n",
        "    return result\n",
        "\n",
        "\n",
        "def from_decimal(digits, base):\n",
        "    print(digits, base, \"p\")\n",
        "    # num = int(\"\".join(map(str, digits)))\n",
        "    num = int(\"\".join(map(str, digits)))\n",
        "\n",
        "    return get_remainders(num, base)\n",
        "\n",
        "\n",
        "\n",
        "\n",
        "# 42 21 r 0\n",
        "# 21 10 r 1\n",
        "# 10 5 r 0\n",
        "# 5 2 r 1\n",
        "# 2 1 r 0\n",
        "# 1 0 r 1\n",
        "def get_remainders(num, base, current_list = []):\n",
        "\n",
        "    new_list = current_list.copy()\n",
        "    new_num = round(num / base)\n",
        "    new_list.insert(0, round(num % base))\n",
        "    print(new_num)\n",
        "    if base <= new_num:\n",
        "\n",
        "\n",
        "        return get_remainders(new_num, base, new_list)\n",
        "        print(current_list)\n",
        "\n",
        "    # if new_num == current_list[0]:\n",
        "            # return int( \"\".join(map(str, current_list + [new_num] )))\n",
        "\n",
        "    # return int( \"\".join(map(str, current_list)))\n",
        "    return int( \"\".join(map(str, current_list + [new_num] )))\n",
        "\n",
        "\n",
        "def num_to_arr(num):\n",
        "    return list(map(int, list(str(num))))\n",
        "\n",
        "int(\"\".join(map(str, [5]))) +1\n",
        "\n"
      ],
      "metadata": {
        "colab": {
          "base_uri": "https://localhost:8080/"
        },
        "id": "JeqFE8CVuWgR",
        "outputId": "9769e5b3-2b23-4cbf-fb26-6329dab11b5b"
      },
      "execution_count": null,
      "outputs": [
        {
          "output_type": "execute_result",
          "data": {
            "text/plain": [
              "6"
            ]
          },
          "metadata": {},
          "execution_count": 36
        }
      ]
    },
    {
      "cell_type": "code",
      "source": [
        "get_remainders(42, 2)"
      ],
      "metadata": {
        "colab": {
          "base_uri": "https://localhost:8080/"
        },
        "id": "apy19_zVpUZ7",
        "outputId": "b8b73ebd-02de-4606-fd95-11b0be68a514"
      },
      "execution_count": null,
      "outputs": [
        {
          "output_type": "stream",
          "name": "stdout",
          "text": [
            "21\n",
            "10\n",
            "5\n",
            "2\n",
            "1\n"
          ]
        },
        {
          "output_type": "execute_result",
          "data": {
            "text/plain": [
              "10101"
            ]
          },
          "metadata": {},
          "execution_count": 37
        }
      ]
    },
    {
      "cell_type": "code",
      "source": [
        "list(set([1,2,3,1]))"
      ],
      "metadata": {
        "colab": {
          "base_uri": "https://localhost:8080/"
        },
        "id": "RQuOPrE22C5S",
        "outputId": "120d2da9-aa0d-4ce1-a494-5c9d51c1423d"
      },
      "execution_count": null,
      "outputs": [
        {
          "output_type": "execute_result",
          "data": {
            "text/plain": [
              "[1, 2, 3]"
            ]
          },
          "metadata": {},
          "execution_count": 1
        }
      ]
    },
    {
      "cell_type": "code",
      "source": [
        "list(range(2))"
      ],
      "metadata": {
        "colab": {
          "base_uri": "https://localhost:8080/"
        },
        "id": "JRugK7JZEUPK",
        "outputId": "7cf8c22e-ff11-42d9-e5ab-b6eb13fd1804"
      },
      "execution_count": null,
      "outputs": [
        {
          "output_type": "execute_result",
          "data": {
            "text/plain": [
              "[0, 1]"
            ]
          },
          "metadata": {},
          "execution_count": 47
        }
      ]
    },
    {
      "cell_type": "code",
      "source": [
        "BANDS = {\n",
        "    \"grey\" : \"0.05%\",\n",
        "    \"violet\" : \"0.1%\",\n",
        "    \"blue\" : \"0.25%\",\n",
        "    \"green\" : \"0.5%\",\n",
        "    \"brown\" : \"1%\",\n",
        "    \"red\" : \"2%\",\n",
        "    \"gold\" : \"5%\",\n",
        "    \"silver\" : \"10%\"\n",
        "}\n",
        "\n",
        "COLORS = [\n",
        "    \"black\",\n",
        "    \"brown\",\n",
        "    \"red\",\n",
        "    \"orange\",\n",
        "    \"yellow\",\n",
        "    \"green\",\n",
        "    \"blue\",\n",
        "    \"violet\",\n",
        "    \"grey\",\n",
        "    \"white\"\n",
        "]\n",
        "\n",
        "MULTIPLIERS = [\"\", \"kilo\", \"mega\", \"giga\"]\n",
        "\n",
        "def resistor_label(colors):\n",
        "\n",
        "    tolerance=\"\"\n",
        "    zero_count=0\n",
        "    if len(colors) > 3:\n",
        "        tolerance = BANDS[colors.pop()]\n",
        "        zero_count = COLORS.index(colors.pop())\n",
        "\n",
        "    digits = \"\"\n",
        "\n",
        "    for x in colors:\n",
        "        digits += str(COLORS.index(x))\n",
        "\n",
        "    for x in range(zero_count):\n",
        "        digits += \"0\"\n",
        "\n",
        "    # while len(digits) and digits[-1] == \"0\":\n",
        "    #     digits = digits[:-1]\n",
        "    #     zero_count += 1\n",
        "\n",
        "\n",
        "\n",
        "\n",
        "    # for x in range(zero_count % 3):\n",
        "    #     digits += \"0\"\n",
        "\n",
        "    # prefix_index= zero_count // 3\n",
        "    prefix_index= 0\n",
        "\n",
        "    digits = int(digits)\n",
        "    while len(str(int(digits))) > 3:\n",
        "        digits  = digits / 1000\n",
        "        prefix_index += 1\n",
        "\n",
        "\n",
        "    prefix = MULTIPLIERS[prefix_index]\n",
        "\n",
        "    tolerance_full = \" ±\" + tolerance if tolerance else \"\"\n",
        "\n",
        "    digits = float(digits)\n",
        "\n",
        "    if digits.is_integer():\n",
        "        digits = int(digits)\n",
        "\n",
        "    digits = str(digits)\n",
        "\n",
        "    return digits + \" \" + prefix + \"ohms\" + tolerance_full\n",
        "\n",
        "\n",
        "resistor_label([\"green\", \"brown\", \"orange\", \"grey\"])"
      ],
      "metadata": {
        "colab": {
          "base_uri": "https://localhost:8080/",
          "height": 36
        },
        "id": "_xtssJZcEJab",
        "outputId": "ae5728bd-c117-4a58-a50a-44edd2ec78d2"
      },
      "execution_count": null,
      "outputs": [
        {
          "output_type": "execute_result",
          "data": {
            "text/plain": [
              "'51 kiloohms ±0.05%'"
            ],
            "application/vnd.google.colaboratory.intrinsic+json": {
              "type": "string"
            }
          },
          "metadata": {},
          "execution_count": 10
        }
      ]
    },
    {
      "cell_type": "code",
      "source": [
        "def is_paired(input_string):\n",
        "    pairs = {\n",
        "        \"{\": \"}\",\n",
        "        \"[\": \"]\",\n",
        "        \"(\": \")\"\n",
        "    }\n",
        "\n",
        "    # for opening in pairs:\n",
        "    #     if input_string.count(opening) != input_string.count(pairs[opening]):\n",
        "    #         return False\n",
        "    # return True\n",
        "    for opening in pairs:\n",
        "        if input_string.count(opening) != input_string.count(pairs[opening]):\n",
        "            return False\n",
        "\n",
        "    slot = []\n",
        "    for i, char in enumerate(input_string):\n",
        "      print(char, input_string[i+1:])\n",
        "        # if pairs[char] not in input_string[i+1:]:\n",
        "        #     return False\n",
        "        # if char in pairs:\n",
        "        #     slot.append(char)\n",
        "    return True\n",
        "\n",
        "is_paired(\"[]\")"
      ],
      "metadata": {
        "colab": {
          "base_uri": "https://localhost:8080/"
        },
        "id": "ci4HB7PRoL9T",
        "outputId": "3c0ddfc3-74bd-4a61-de49-60e933ed0e44"
      },
      "execution_count": null,
      "outputs": [
        {
          "output_type": "stream",
          "name": "stdout",
          "text": [
            "[ ]\n",
            "] \n"
          ]
        },
        {
          "output_type": "execute_result",
          "data": {
            "text/plain": [
              "True"
            ]
          },
          "metadata": {},
          "execution_count": 6
        }
      ]
    },
    {
      "cell_type": "code",
      "source": [
        "sorted([\"w\", \"n\", \"o\", \"w\", \"o\", \"s\"]) == sorted([\"s\", \"o\", \"n\", \"o\", \"w\", \"w\"])"
      ],
      "metadata": {
        "colab": {
          "base_uri": "https://localhost:8080/"
        },
        "id": "gP1Li9D_6pOO",
        "outputId": "23b6124f-2bc1-4589-92a7-0c3a740ada76"
      },
      "execution_count": null,
      "outputs": [
        {
          "output_type": "execute_result",
          "data": {
            "text/plain": [
              "True"
            ]
          },
          "metadata": {},
          "execution_count": 5
        }
      ]
    },
    {
      "cell_type": "code",
      "source": [
        "def find_anagrams(word, candidates):\n",
        "\n",
        "\n",
        "    return list(filter(lambda x: is_anagram(word, x), candidates))\n",
        "\n",
        "\n",
        "\n",
        "def is_anagram(word, candidate):\n",
        "    if len(word) != len(candidate):\n",
        "        return False\n",
        "    word = word.lower()\n",
        "    candidate= candidate.lower()\n",
        "\n",
        "    # create hashmaps for both:\n",
        "    hash_word, hash_cand = {}, {}\n",
        "    for x in range(len(word)):\n",
        "        hash_word[word[x]] = hash_word.get(word[x], 0) + 1\n",
        "        hash_cand[candidate[x]] = hash_cand.get(candidate[x], 0) + 1\n",
        "\n",
        "    print(hash_word, hash_cand)\n",
        "    # compare both hashmaps\n",
        "    for x in hash_word:\n",
        "        if hash_word[x] != hash_cand.get(x, 0):\n",
        "            return False\n",
        "\n",
        "    return True\n",
        "\n",
        "\n",
        "\n",
        "\n",
        "find_anagrams(\"nose\", [\"Eons\", \"ONES\"])"
      ],
      "metadata": {
        "colab": {
          "base_uri": "https://localhost:8080/"
        },
        "id": "1ug1PiyT93Sy",
        "outputId": "d2f27a15-e08c-470f-bf07-54679e9fd675"
      },
      "execution_count": null,
      "outputs": [
        {
          "output_type": "stream",
          "name": "stdout",
          "text": [
            "{'n': 1, 'o': 1, 's': 1, 'e': 1} {'e': 1, 'o': 1, 'n': 1, 's': 1}\n",
            "{'n': 1, 'o': 1, 's': 1, 'e': 1} {'o': 1, 'n': 1, 'e': 1, 's': 1}\n"
          ]
        },
        {
          "output_type": "execute_result",
          "data": {
            "text/plain": [
              "['Eons', 'ONES']"
            ]
          },
          "metadata": {},
          "execution_count": 13
        }
      ]
    },
    {
      "cell_type": "code",
      "source": [
        "def find(search_list, value):\n",
        "    search_list.sort()\n",
        "    a = 0\n",
        "    z = len(search_list) - 1\n",
        "\n",
        "    # if value == search_list[a]:\n",
        "    #     return a\n",
        "    # if value == search_list[z]:\n",
        "    #     return z\n",
        "\n",
        "\n",
        "    while a <= z:\n",
        "\n",
        "        mid = a + (z - a) // 2\n",
        "        mid_val = search_list[mid]\n",
        "\n",
        "        print(a, z, mid)\n",
        "        if mid_val == value:\n",
        "            return mid\n",
        "        elif value < mid_val:\n",
        "            z = mid - 1\n",
        "        else:\n",
        "            a = mid + 1\n",
        "    # raise ValueError(\"value not in array\")\n",
        "    return None\n",
        "\n",
        "find([1, 3, 5, 8, 13, 21, 34, 55, 89, 144, 233, 377, 634], 144)"
      ],
      "metadata": {
        "colab": {
          "base_uri": "https://localhost:8080/"
        },
        "id": "tKlRMiKyWA7v",
        "outputId": "739a7653-137c-487e-b8c5-ede2bdfb1295"
      },
      "execution_count": null,
      "outputs": [
        {
          "output_type": "stream",
          "name": "stdout",
          "text": [
            "0 12 6\n",
            "7 12 9\n"
          ]
        },
        {
          "output_type": "execute_result",
          "data": {
            "text/plain": [
              "9"
            ]
          },
          "metadata": {},
          "execution_count": 1
        }
      ]
    },
    {
      "cell_type": "code",
      "source": [
        "[chr(one) for one in range(97,123)]"
      ],
      "metadata": {
        "colab": {
          "base_uri": "https://localhost:8080/"
        },
        "id": "wLuzY3kW8SSh",
        "outputId": "cec9a674-2bcb-413d-f6be-f1dc3e72a94b"
      },
      "execution_count": null,
      "outputs": [
        {
          "output_type": "execute_result",
          "data": {
            "text/plain": [
              "['a',\n",
              " 'b',\n",
              " 'c',\n",
              " 'd',\n",
              " 'e',\n",
              " 'f',\n",
              " 'g',\n",
              " 'h',\n",
              " 'i',\n",
              " 'j',\n",
              " 'k',\n",
              " 'l',\n",
              " 'm',\n",
              " 'n',\n",
              " 'o',\n",
              " 'p',\n",
              " 'q',\n",
              " 'r',\n",
              " 's',\n",
              " 't',\n",
              " 'u',\n",
              " 'v',\n",
              " 'w',\n",
              " 'x',\n",
              " 'y',\n",
              " 'z']"
            ]
          },
          "metadata": {},
          "execution_count": 22
        }
      ]
    },
    {
      "cell_type": "code",
      "source": [
        "ALPHABET = [chr(one) for one in range(97,123)]\n",
        "def encode(plain_text):\n",
        "    return \" \".join(map(encode_word, plain_text.split(\" \")))\n",
        "\n",
        "\n",
        "def decode(ciphered_text):\n",
        "    return \" \".join(map(decode_word, ciphered_text.split(\" \")))\n",
        "\n",
        "\n",
        "\n",
        "def encode_word(word):\n",
        "    res = \"\"\n",
        "    print(word)\n",
        "    for x in word:\n",
        "        print(x)\n",
        "        res += ALPHABET[len(ALPHABET) - 1 - ALPHABET.index(x)]\n",
        "\n",
        "    return res\n",
        "\n",
        "def decode_word(word):\n",
        "    res = \"\"\n",
        "    for x in word:\n",
        "        res += ALPHABET[len(ALPHABET) - ALPHABET.index(x) - 1]\n",
        "\n",
        "encode(\"yes\")"
      ],
      "metadata": {
        "colab": {
          "base_uri": "https://localhost:8080/",
          "height": 105
        },
        "id": "F9QBAAQmcHIa",
        "outputId": "ebbd9637-c665-46ab-a5d8-5e077bc3b805"
      },
      "execution_count": null,
      "outputs": [
        {
          "output_type": "stream",
          "name": "stdout",
          "text": [
            "yes\n",
            "y\n",
            "e\n",
            "s\n"
          ]
        },
        {
          "output_type": "execute_result",
          "data": {
            "text/plain": [
              "'bvh'"
            ],
            "application/vnd.google.colaboratory.intrinsic+json": {
              "type": "string"
            }
          },
          "metadata": {},
          "execution_count": 23
        }
      ]
    },
    {
      "cell_type": "code",
      "source": [
        "def binary_search(search_list, value):\n",
        "\n",
        "  first_index = 0\n",
        "  last_index = len(search_list) - 1\n",
        "\n",
        "  while first_index <= last_index:\n",
        "    mid_index = first_index + (last_index - first_index) // 2\n",
        "    mid_value = search_list[mid_index]\n",
        "    if mid_value == value:\n",
        "      return mid_index\n",
        "    elif mid_value > value:\n",
        "      last_index = mid_index - 1\n",
        "    else:\n",
        "      first_index = mid_index + 1\n",
        "  return None\n",
        "\n",
        "binary_search([1,2,4,7,9,13,22,40,41,50,77, 80], 4)"
      ],
      "metadata": {
        "colab": {
          "base_uri": "https://localhost:8080/"
        },
        "id": "mmvqmBivceTO",
        "outputId": "02f2801b-53d7-4480-98be-75fe0a335a01"
      },
      "execution_count": null,
      "outputs": [
        {
          "output_type": "execute_result",
          "data": {
            "text/plain": [
              "2"
            ]
          },
          "metadata": {},
          "execution_count": 80
        }
      ]
    },
    {
      "cell_type": "code",
      "source": [
        "def diamond(letter):\n",
        "    \"\"\"Prints a diamond pattern of letters up to the given letter.\"\"\"\n",
        "\n",
        "    # Calculate the number of rows based on the letter\n",
        "    num_rows = ord(letter) - ord('A') + 1\n",
        "\n",
        "    # Upper half of the diamond\n",
        "    for i in range(num_rows):\n",
        "        spaces = \".\" * (num_rows - i - 1)\n",
        "        letters = chr(ord('A') + i)\n",
        "        if i > 0:\n",
        "            letters = letters + \".\" * (2 * i - 1) + letters\n",
        "        print(spaces + letters)\n",
        "\n",
        "    # Lower half of the diamond\n",
        "    for i in range(num_rows - 2, -1, -1):\n",
        "        spaces = \".\" * (num_rows - i - 1)\n",
        "        letters = chr(ord('A') + i)\n",
        "        if i > 0:\n",
        "            letters = letters + \".\" * (2 * i - 1) + letters\n",
        "        print(spaces + letters)\n",
        "\n",
        "if __name__ == \"__main__\":\n",
        "    letter = input(\"Enter a letter (A-Z): \")\n",
        "    diamond(letter.upper())\n"
      ],
      "metadata": {
        "colab": {
          "base_uri": "https://localhost:8080/"
        },
        "id": "JcxtMwUgBj9O",
        "outputId": "0084a2c7-bcc2-4122-f709-a97ea67a6c7a"
      },
      "execution_count": null,
      "outputs": [
        {
          "output_type": "stream",
          "name": "stdout",
          "text": [
            "Enter a letter (A-Z): C\n",
            "..A\n",
            ".B.B\n",
            "C...C\n",
            ".B.B\n",
            "..A\n"
          ]
        }
      ]
    },
    {
      "cell_type": "code",
      "source": [
        "ALPHABET = [chr(x).upper() for x in range(97, 123)]\n",
        "\n",
        "\n",
        "def diamond(letter):\n",
        "  size = (ALPHABET.index(letter) + 1) * 2 - 1\n",
        "  for i in range(size//2 + 1):\n",
        "    stair = \"\"\n",
        "    for j in range(size):\n",
        "      entry=\"\"\n",
        "      if j < size - i:\n",
        "        entry = \".\"\n",
        "      else:\n",
        "        entry = ALPHABET[i]\n",
        "      stair += entry\n",
        "\n",
        "    print(stair)\n",
        "\n",
        "diamond(\"C\")\n"
      ],
      "metadata": {
        "colab": {
          "base_uri": "https://localhost:8080/"
        },
        "id": "3k3RjERGt3BX",
        "outputId": "eb078baa-c33f-4033-c77c-01aaac63d73c"
      },
      "execution_count": null,
      "outputs": [
        {
          "output_type": "stream",
          "name": "stdout",
          "text": [
            ".....\n",
            "....B\n",
            "...CC\n"
          ]
        }
      ]
    },
    {
      "cell_type": "code",
      "source": [
        "class Cookie:\n",
        "  def __init__(self, color):\n",
        "    self.color = color\n",
        "  def get_color(self):\n",
        "    return self.color\n",
        "  def set_color(self, color):\n",
        "    self.color = color\n",
        "\n",
        "cookie = Cookie(\"green\")\n",
        "cookie.set_color(\"blue\")\n",
        "cookie.get_color()"
      ],
      "metadata": {
        "colab": {
          "base_uri": "https://localhost:8080/",
          "height": 36
        },
        "id": "TQUT_phg9zjz",
        "outputId": "7651fcb6-172c-4e7b-e06d-0ce9caccf061"
      },
      "execution_count": null,
      "outputs": [
        {
          "output_type": "execute_result",
          "data": {
            "text/plain": [
              "'blue'"
            ],
            "application/vnd.google.colaboratory.intrinsic+json": {
              "type": "string"
            }
          },
          "metadata": {},
          "execution_count": 6
        }
      ]
    }
  ],
  "metadata": {
    "colab": {
      "provenance": [],
      "authorship_tag": "ABX9TyNw+GxGpHoPXo+lBrE8if+n",
      "include_colab_link": true
    },
    "kernelspec": {
      "display_name": "Python 3",
      "name": "python3"
    },
    "language_info": {
      "name": "python"
    }
  },
  "nbformat": 4,
  "nbformat_minor": 0
}